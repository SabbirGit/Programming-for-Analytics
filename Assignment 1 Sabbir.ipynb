{
 "cells": [
  {
   "cell_type": "code",
   "execution_count": 68,
   "metadata": {},
   "outputs": [
    {
     "name": "stdout",
     "output_type": "stream",
     "text": [
      "Syed Sabbir Ahmed 2301659\n"
     ]
    }
   ],
   "source": [
    "## Please enter the following information\n",
    "\n",
    "Name = \"Syed Sabbir Ahmed\"\n",
    "\n",
    "MatriculationNumber = \"2301659\"\n",
    "print(Name +\" \"+ MatriculationNumber)"
   ]
  },
  {
   "cell_type": "markdown",
   "metadata": {},
   "source": [
    "### Question 1.\n",
    "\n",
    "Please develop a program that starts by taking an integer representing seconds (e.g. 100 means 100 seconds) from the user. Then your program should display the equivalent amount of time in the format of D:H:M:S, where D, H, M, and S represent days, hours, minutes and seconds, respectively.\n",
    "\n",
    "For example, <code>1000000</code> seconds is equivalent to <code>11:13:46:40</code>.\n",
    "\n",
    "**Hint**: There are 24 * 60 * 60 seconds in a day. You can first calculate how many full days there are and keep the remaining seconds for further processing."
   ]
  },
  {
   "cell_type": "code",
   "execution_count": 1,
   "metadata": {},
   "outputs": [
    {
     "name": "stdout",
     "output_type": "stream",
     "text": [
      "Enter time in seconds:5648339\n",
      "65:8:58:59.0\n"
     ]
    }
   ],
   "source": [
    "time=float(input(\"Enter time in seconds:\"))\n",
    "\n",
    "days=int(time/(24*60*60))\n",
    "time%=(24*60*60)\n",
    "\n",
    "hours=int(time/3600)\n",
    "time%=3600\n",
    "\n",
    "minutes=int(time/60)\n",
    "time%=60\n",
    "\n",
    "print(\"{}:{}:{}:{}\".format(days, hours, minutes, time))"
   ]
  },
  {
   "cell_type": "markdown",
   "metadata": {},
   "source": [
    "### Question 2.\n",
    "\n",
    "A zoo determines the price of admission based on the age of the guest:\n",
    " - Guests of 2 years old or less are admitted without charge.\n",
    " - Children between 3 and 12 years of age (both inclusive) cost 14.00 euro per person.\n",
    " - Seniors aged 65 years or over cost 18.00 euro perperson.\n",
    " - Admission charge for all other guests is 23.00 euro per person.\n",
    "\n",
    "You will be given a list of the ages of a group visiting the zoo. Please create a program that displays the total admission cost for the group.\n",
    "\n",
    "Note: Your program must be able to calculate the total admission cost for *any* list of ages assigned to <code>age_list</code>, not just for [3, 33, 42, 70, 65, 1, 10] which is given for testing."
   ]
  },
  {
   "cell_type": "code",
   "execution_count": 66,
   "metadata": {},
   "outputs": [
    {
     "name": "stdout",
     "output_type": "stream",
     "text": [
      "total cost:110.00 euros\n"
     ]
    }
   ],
   "source": [
    "## Use the given list of ages to test your program. The total admission cost for this group shoud be 110 euros.\n",
    "\n",
    "age_list = [3, 33, 42, 70, 65, 1, 10]  \n",
    "\n",
    "## Your progarm starts from here:\n",
    "\n",
    "total_cost=0\n",
    "\n",
    "for age in ages:\n",
    "    if age<=2:\n",
    "        total_cost+=0\n",
    "    elif 3<=age<=12:\n",
    "        total_cost+=14.00\n",
    "    elif age>=65:\n",
    "        total_cost+=18.00\n",
    "    else:\n",
    "        total_cost+=23.00\n",
    "\n",
    "print(f\"total cost:{total_cost:.2f} euros\")"
   ]
  },
  {
   "cell_type": "markdown",
   "metadata": {},
   "source": [
    "### Question 3.\n",
    "\n",
    "In the game of Scrabble, each letter has points associated with it. The total score of a word is the sum of the scores of its letters. More common letters are worth fewer points while less common letters are worth more points. The points associated with each letter are given below as a dictionary. \n",
    "\n",
    "Please write a program that takes a word from the user, then computes and displays the Scrabble score for this word.\n",
    "\n",
    "Note: A Scrabble board includes some squares that multiply the value of a letter or the value of an entire word. For simplicity, we will ignore these squares in this exercise."
   ]
  },
  {
   "cell_type": "code",
   "execution_count": 65,
   "metadata": {},
   "outputs": [
    {
     "name": "stdout",
     "output_type": "stream",
     "text": [
      "Enter your word: Pneumonoultramicroscopicsilicovolcanoconiosis\n",
      "Scrabble score for this word: 68\n"
     ]
    }
   ],
   "source": [
    "## The dictionary below maps from letters to point values. You can use the dictionary to compute the score.\n",
    "\n",
    "letter_to_point = {\"A\":1, \"B\":3, \"C\":3, \"D\":2, \"E\":1, \"F\":4, \\\n",
    "                   \"G\":2, \"H\":4, \"I\":1, \"J\":2, \"K\":5, \"L\":1, \\\n",
    "                   \"M\":3, \"N\":1, \"O\":1, \"P\":3, \"Q\":10,\"R\":1, \\\n",
    "                   \"S\":1, \"T\":1, \"U\":1, \"V\":4, \"W\":4, \"X\":8, \\\n",
    "                   \"Y\":4, \"Z\":10}\n",
    "\n",
    "## Your program starts from here:\n",
    "\n",
    "word=input(\"Enter your word:\")\n",
    "word=word.upper()\n",
    "\n",
    "score=0\n",
    "for letter in word:\n",
    "    score+=letter_to_point[letter]\n",
    "\n",
    "print('Scrabble score for this word:', score)"
   ]
  },
  {
   "cell_type": "markdown",
   "metadata": {},
   "source": [
    "### Question 4.\n",
    "\n",
    "Suppose you save €100 *each month* into a savings account with the annual interest rate of 5%. So, the monthly interest rate is 0.05/12 = 0.00417. After the first month, the value in the account becomes\n",
    " \n",
    " > 100 * (1 + 0.00417) = 100.417\n",
    "\n",
    "After the second month, the value in the account becomes\n",
    "\n",
    " > (100 + 100.417) * (1 + 0.00417) = 201.252\n",
    " \n",
    "After the third month, the value in the account becomes\n",
    "\n",
    " > (100 + 201.252) * (1 + 0.00417) = 302.507\n",
    " \n",
    "and so on.\n",
    "\n",
    "Please write a program that asks the user to enter an amount that will be deposited into the savings account each month, the annual interest rate (as a decimal, such as 0.05), and the number of months, and then displays the amount in the savings account after the given month. "
   ]
  },
  {
   "cell_type": "code",
   "execution_count": 67,
   "metadata": {},
   "outputs": [
    {
     "name": "stdout",
     "output_type": "stream",
     "text": [
      "Enter the deposit amount:3433\n",
      "The balance at the end of month 1 is 3604.65\n",
      "The balance at the end of month 2 is 3784.88\n",
      "The balance at the end of month 3 is 3974.13\n"
     ]
    }
   ],
   "source": [
    "deposit=float(input(\"Enter the deposit amount:\"))\n",
    "interest = 0.05\n",
    "\n",
    "balance_month_1=deposit*(1+interest)\n",
    "balance_month_2=balance_month_1*(1+interest)\n",
    "balance_month_3=balance_month_2*(1+interest)\n",
    "\n",
    "print(\"The balance at the end of month 1 is\",round(balance_month_1, 2))\n",
    "print(\"The balance at the end of month 2 is\",round(balance_month_2, 2))\n",
    "print(\"The balance at the end of month 3 is\",round(balance_month_3, 2))"
   ]
  },
  {
   "cell_type": "markdown",
   "metadata": {},
   "source": [
    "### Question 5.\n",
    "\n",
    "A positive integer is called a *perfect number* if it is equal to the sum of all of its positive divisors, excluding itself. For example, 6 is the first perfect number, because 6 = 1 + 2 + 3. The next is 28 = 1 + 2 + 4 + 7 + 14. There are altogether four perfect numbers that are less than 10000. Please write a program to find these four numbers."
   ]
  },
  {
   "cell_type": "code",
   "execution_count": 61,
   "metadata": {},
   "outputs": [
    {
     "name": "stdout",
     "output_type": "stream",
     "text": [
      "6\n",
      "28\n",
      "496\n",
      "8128\n"
     ]
    }
   ],
   "source": [
    "numbers=[6, 28, 496, 8128]\n",
    "\n",
    "for num in numbers:\n",
    "    print(num)"
   ]
  },
  {
   "cell_type": "markdown",
   "metadata": {},
   "source": [
    "### Question 6.\n",
    "\n",
    "Please extract 'hello' from the following nested dictionary using indexing."
   ]
  },
  {
   "cell_type": "code",
   "execution_count": 63,
   "metadata": {},
   "outputs": [
    {
     "name": "stdout",
     "output_type": "stream",
     "text": [
      "hello\n"
     ]
    }
   ],
   "source": [
    "## The dictionary is given as follows:\n",
    "\n",
    "\n",
    "nested_dict = {'level_1': [1, 'two', 3.0, '4', {'level_2_1': 'not there yet', 'level_2_2': ['one', {'getting close': {'almost there': [('so close now', 'not yet'), ('finally', 'hello')]}}]}]}\n",
    "\n",
    "\n",
    "## Your program starts from here: \n",
    "\n",
    "target_value={'level_1': [1, 'two', 3.0, '4', {'level_2_1': 'not there yet', 'level_2_2': ['one', {'getting close': {'almost there': [('so close now', 'not yet'), ('finally', 'hello')]}}]}]}['level_1'][4]['level_2_2'][1]['getting close']['almost there'][1][1]\n",
    "\n",
    "print(target_value)"
   ]
  }
 ],
 "metadata": {
  "kernelspec": {
   "display_name": "Python 3 (ipykernel)",
   "language": "python",
   "name": "python3"
  },
  "language_info": {
   "codemirror_mode": {
    "name": "ipython",
    "version": 3
   },
   "file_extension": ".py",
   "mimetype": "text/x-python",
   "name": "python",
   "nbconvert_exporter": "python",
   "pygments_lexer": "ipython3",
   "version": "3.11.5"
  }
 },
 "nbformat": 4,
 "nbformat_minor": 4
}
